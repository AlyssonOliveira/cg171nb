{
 "cells": [
  {
   "cell_type": "code",
   "execution_count": 1,
   "metadata": {},
   "outputs": [
    {
     "data": {
      "application/javascript": [
       "require.undef(\"nbextensions/vpython_libraries/glow.min\");"
      ],
      "text/plain": [
       "<IPython.core.display.Javascript object>"
      ]
     },
     "metadata": {},
     "output_type": "display_data"
    },
    {
     "data": {
      "application/javascript": [
       "require.undef(\"nbextensions/vpython_libraries/glowcomm\");"
      ],
      "text/plain": [
       "<IPython.core.display.Javascript object>"
      ]
     },
     "metadata": {},
     "output_type": "display_data"
    },
    {
     "data": {
      "application/javascript": [
       "require.undef(\"nbextensions/vpython_libraries/jquery-ui.custom.min\");"
      ],
      "text/plain": [
       "<IPython.core.display.Javascript object>"
      ]
     },
     "metadata": {},
     "output_type": "display_data"
    },
    {
     "data": {
      "application/javascript": [
       "require([\"nbextensions/vpython_libraries/glow.min\"], function(){console.log(\"GLOW LOADED\");})"
      ],
      "text/plain": [
       "<IPython.core.display.Javascript object>"
      ]
     },
     "metadata": {},
     "output_type": "display_data"
    },
    {
     "data": {
      "application/javascript": [
       "require([\"nbextensions/vpython_libraries/glowcomm\"], function(){console.log(\"GLOWCOMM LOADED\");})"
      ],
      "text/plain": [
       "<IPython.core.display.Javascript object>"
      ]
     },
     "metadata": {},
     "output_type": "display_data"
    },
    {
     "data": {
      "application/javascript": [
       "require([\"nbextensions/vpython_libraries/jquery-ui.custom.min\"], function(){console.log(\"JQUERY LOADED\");})"
      ],
      "text/plain": [
       "<IPython.core.display.Javascript object>"
      ]
     },
     "metadata": {},
     "output_type": "display_data"
    },
    {
     "data": {
      "text/html": [
       "<div id=\"glowscript\" class=\"glowscript\"></div>"
      ],
      "text/plain": [
       "<IPython.core.display.HTML object>"
      ]
     },
     "metadata": {},
     "output_type": "display_data"
    },
    {
     "data": {
      "application/javascript": [
       "window.__context = { glowscript_container: $(\"#glowscript\").removeAttr(\"id\")}"
      ],
      "text/plain": [
       "<IPython.core.display.Javascript object>"
      ]
     },
     "metadata": {},
     "output_type": "display_data"
    }
   ],
   "source": [
    "from vpython import *\n",
    "scene.height = 600\n",
    "scene.width = 800\n",
    "scene.range = 3.5\n",
    "scene.center = vec(0,-.3,0)\n",
    "T = text(text='My text is\\ngreen', color=color.green, align='center', depth=-.2)\n",
    "sc = color.red\n",
    "sr = .1\n",
    "supperleft = sphere(pos=T.upper_left, radius=sr, color=sc)\n",
    "supperright = sphere(pos=T.upper_right, radius=sr, color=sc)\n",
    "sstart = sphere(pos=T.start, radius=sr, color=sc)\n",
    "spos = sphere(pos=T.pos, radius=sr, color=sc)\n",
    "send = sphere(pos=T.end, radius=sr, color=sc)\n",
    "slowerleft = sphere(pos=T.lower_left, radius=sr, color=sc)\n",
    "slowerright = sphere(pos=T.lower_right, radius=sr, color=sc)\n",
    "r = .03\n",
    "c = color.yellow\n",
    "clength = cylinder(pos=supperleft.pos, axis=supperright.pos-supperleft.pos, radius=r, color=c)\n",
    "cheight = cylinder(pos=sstart.pos, axis=supperleft.pos-sstart.pos, radius=r, color=c)\n",
    "cdescent = cylinder(pos=sstart.pos, axis=-T.descender*T.up.norm(), radius=r, color=c)\n",
    "cline = cylinder(pos=vec(0.37*T.length,sstart.pos.y,0), axis=vec(0,-T.vertical_spacing,0), radius=r, color=c)\n",
    "# need vertical_spacing\n",
    "lh = 20\n",
    "sp = 10\n",
    "label(pos=supperleft.pos, text='upper_left', xoffset=-30, yoffset=40, space=sp, height=lh)\n",
    "label(pos=supperright.pos, text='upper_right', xoffset=-30, yoffset=40, space=sp, height=lh)\n",
    "label(pos=0.5*(supperright.pos+supperleft.pos), text='length', yoffset=40, height=lh)\n",
    "label(pos=0.5*(sstart.pos+supperleft.pos), text='height', xoffset=-30, height=lh)\n",
    "label(pos=sstart.pos, text='start', xoffset=-35, space=sp, height=lh)\n",
    "label(pos=sstart.pos+vec(0,-.1,0), text='descender', xoffset=-30, yoffset=-35, height=lh)\n",
    "label(pos=spos.pos, text=\"pos (align='\"+T.align+\"')\", yoffset=-20, space=sp, height=lh)\n",
    "label(pos=send.pos, text='end', xoffset=30, space=sp, height=lh)\n",
    "label(pos=slowerleft.pos, text='lower_left', xoffset=-30, yoffset=31, space=sp, height=lh)\n",
    "label(pos=slowerright.pos, text='lower_right', xoffset=20, yoffset=30, space=sp, height=lh)\n",
    "label(pos=cline.pos+vec(0,-.6,0), text='vertical_spacing', xoffset=20, height=lh)\n"
   ]
  },
  {
   "cell_type": "code",
   "execution_count": null,
   "metadata": {
    "collapsed": true
   },
   "outputs": [],
   "source": []
  }
 ],
 "metadata": {
  "kernelspec": {
   "display_name": "VPython",
   "language": "python",
   "name": "vpython"
  },
  "language_info": {
   "codemirror_mode": {
    "name": "ipython",
    "version": 3
   },
   "file_extension": ".py",
   "mimetype": "text/x-python",
   "name": "python",
   "nbconvert_exporter": "python",
   "pygments_lexer": "ipython3",
   "version": "3.6.0"
  }
 },
 "nbformat": 4,
 "nbformat_minor": 2
}
